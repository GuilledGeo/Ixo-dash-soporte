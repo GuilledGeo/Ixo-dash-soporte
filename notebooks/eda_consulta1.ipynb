{
 "cells": [
  {
   "cell_type": "code",
   "execution_count": null,
   "metadata": {
    "vscode": {
     "languageId": "python"
    }
   },
   "outputs": [],
   "source": [
    "import pandas as pd\n",
    "import matplotlib.pyplot as plt\n",
    "import seaborn as sns\n"
   ]
  },
  {
   "cell_type": "code",
   "execution_count": 1,
   "metadata": {
    "vscode": {
     "languageId": "python"
    }
   },
   "outputs": [
    {
     "ename": "NameError",
     "evalue": "name 'pd' is not defined",
     "output_type": "error",
     "traceback": [
      "\u001b[1;31m---------------------------------------------------------------------------\u001b[0m\n",
      "\u001b[1;31mNameError\u001b[0m                                 Traceback (most recent call last)\n",
      "Cell \u001b[1;32mIn[1], line 2\u001b[0m\n",
      "\u001b[0;32m      1\u001b[0m ruta \u001b[38;5;241m=\u001b[39m \u001b[38;5;124m\"\u001b[39m\u001b[38;5;124mC:/1_IXORIGUE/1_Proyectos/0_K8S/data/processed/consulta_01_2025-07-14_09-29_v01.csv\u001b[39m\u001b[38;5;124m\"\u001b[39m\n",
      "\u001b[1;32m----> 2\u001b[0m df \u001b[38;5;241m=\u001b[39m \u001b[43mpd\u001b[49m\u001b[38;5;241m.\u001b[39mread_csv(ruta)\n",
      "\u001b[0;32m      3\u001b[0m \u001b[38;5;28mprint\u001b[39m(\u001b[38;5;124mf\u001b[39m\u001b[38;5;124m\"\u001b[39m\u001b[38;5;124m🔢 Registros cargados: \u001b[39m\u001b[38;5;132;01m{\u001b[39;00m\u001b[38;5;28mlen\u001b[39m(df)\u001b[38;5;132;01m}\u001b[39;00m\u001b[38;5;124m\"\u001b[39m)\n",
      "\u001b[0;32m      4\u001b[0m df\u001b[38;5;241m.\u001b[39mhead()\n",
      "\n",
      "\u001b[1;31mNameError\u001b[0m: name 'pd' is not defined"
     ]
    }
   ],
   "source": [
    "ruta = \"C:/1_IXORIGUE/1_Proyectos/0_K8S/data/processed/consulta_01_2025-07-14_09-29_v01.csv\"\n",
    "df = pd.read_csv(ruta)\n",
    "print(f\"🔢 Registros cargados: {len(df)}\")\n",
    "df.head()\n"
   ]
  },
  {
   "cell_type": "code",
   "execution_count": 3,
   "metadata": {
    "vscode": {
     "languageId": "python"
    }
   },
   "outputs": [],
   "source": [
    "# Asegurar campos numéricos y sin NaNs\n",
    "df[\"mensajes_esperados\"] = df[\"mensajes_esperados\"].fillna(0)\n",
    "df[\"mensajes_recibidos\"] = df[\"mensajes_recibidos\"].fillna(0)\n",
    "\n",
    "# Cálculo ratio recibido / esperado\n",
    "df[\"pct_recibidos_vs_esperados\"] = (\n",
    "    df[\"mensajes_recibidos\"] / df[\"mensajes_esperados\"]\n",
    ").round(4)\n",
    "\n",
    "# Filtrar solo los que tienen al menos 1 mensaje esperado\n",
    "df = df[df[\"mensajes_esperados\"] > 0]\n"
   ]
  }
 ],
 "metadata": {
  "language_info": {
   "name": "plaintext"
  }
 },
 "nbformat": 4,
 "nbformat_minor": 2
}
